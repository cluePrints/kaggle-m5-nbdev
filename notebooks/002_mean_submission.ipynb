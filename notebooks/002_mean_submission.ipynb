{
 "cells": [
  {
   "cell_type": "code",
   "execution_count": null,
   "metadata": {},
   "outputs": [
    {
     "data": {
      "text/html": [
       "<div>\n",
       "<style scoped>\n",
       "    .dataframe tbody tr th:only-of-type {\n",
       "        vertical-align: middle;\n",
       "    }\n",
       "\n",
       "    .dataframe tbody tr th {\n",
       "        vertical-align: top;\n",
       "    }\n",
       "\n",
       "    .dataframe thead th {\n",
       "        text-align: right;\n",
       "    }\n",
       "</style>\n",
       "<table border=\"1\" class=\"dataframe\">\n",
       "  <thead>\n",
       "    <tr style=\"text-align: right;\">\n",
       "      <th></th>\n",
       "      <th>id</th>\n",
       "      <th>item_id</th>\n",
       "      <th>dept_id</th>\n",
       "      <th>cat_id</th>\n",
       "      <th>store_id</th>\n",
       "      <th>state_id</th>\n",
       "      <th>d_1</th>\n",
       "      <th>d_2</th>\n",
       "      <th>d_3</th>\n",
       "      <th>d_4</th>\n",
       "      <th>...</th>\n",
       "      <th>d_1904</th>\n",
       "      <th>d_1905</th>\n",
       "      <th>d_1906</th>\n",
       "      <th>d_1907</th>\n",
       "      <th>d_1908</th>\n",
       "      <th>d_1909</th>\n",
       "      <th>d_1910</th>\n",
       "      <th>d_1911</th>\n",
       "      <th>d_1912</th>\n",
       "      <th>d_1913</th>\n",
       "    </tr>\n",
       "  </thead>\n",
       "  <tbody>\n",
       "    <tr>\n",
       "      <th>0</th>\n",
       "      <td>HOBBIES_1_001_CA_1_validation</td>\n",
       "      <td>HOBBIES_1_001</td>\n",
       "      <td>HOBBIES_1</td>\n",
       "      <td>HOBBIES</td>\n",
       "      <td>CA_1</td>\n",
       "      <td>CA</td>\n",
       "      <td>0</td>\n",
       "      <td>0</td>\n",
       "      <td>0</td>\n",
       "      <td>0</td>\n",
       "      <td>...</td>\n",
       "      <td>1</td>\n",
       "      <td>3</td>\n",
       "      <td>0</td>\n",
       "      <td>1</td>\n",
       "      <td>1</td>\n",
       "      <td>1</td>\n",
       "      <td>3</td>\n",
       "      <td>0</td>\n",
       "      <td>1</td>\n",
       "      <td>1</td>\n",
       "    </tr>\n",
       "  </tbody>\n",
       "</table>\n",
       "<p>1 rows × 1919 columns</p>\n",
       "</div>"
      ],
      "text/plain": [
       "                              id        item_id    dept_id   cat_id store_id  \\\n",
       "0  HOBBIES_1_001_CA_1_validation  HOBBIES_1_001  HOBBIES_1  HOBBIES     CA_1   \n",
       "\n",
       "  state_id  d_1  d_2  d_3  d_4  ...  d_1904  d_1905  d_1906  d_1907  d_1908  \\\n",
       "0       CA    0    0    0    0  ...       1       3       0       1       1   \n",
       "\n",
       "   d_1909  d_1910  d_1911  d_1912  d_1913  \n",
       "0       1       3       0       1       1  \n",
       "\n",
       "[1 rows x 1919 columns]"
      ]
     },
     "execution_count": null,
     "metadata": {},
     "output_type": "execute_result"
    }
   ],
   "source": [
    "import pandas as pd\n",
    "\n",
    "df_val = pd.read_csv('raw/sales_train_validation.csv', nrows=100)\n",
    "df_val.head(1)"
   ]
  },
  {
   "cell_type": "code",
   "execution_count": null,
   "metadata": {},
   "outputs": [
    {
     "data": {
      "text/plain": [
       "0     0.313643\n",
       "1     0.257710\n",
       "2     0.150549\n",
       "3     1.718766\n",
       "4     0.966545\n",
       "        ...   \n",
       "95    0.965499\n",
       "96    0.711971\n",
       "97    0.115003\n",
       "98    4.151072\n",
       "99    0.104025\n",
       "Name: mean, Length: 100, dtype: float64"
      ]
     },
     "execution_count": null,
     "metadata": {},
     "output_type": "execute_result"
    }
   ],
   "source": [
    "class AverageForecast:    \n",
    "    def __init__(self, df_input):\n",
    "        self.df_input = df_input.copy()\n",
    "        day_cols = [col for col in df_input.columns if col.startswith('d_')]\n",
    "        self.averages = pd.DataFrame({'mean':df_input[day_cols].mean(axis=1)})\n",
    "        self.averages['item_id'] = df_input['item_id']\n",
    "        self.averages['store_id'] = df_input['store_id']\n",
    "        self.averages.set_index(['item_id', 'store_id'], inplace=True)\n",
    "\n",
    "    def __call__(self, df_target):\n",
    "        return ave.averages.merge(df_target, on=['item_id', 'store_id'], how='right').fillna(0.0)['mean']\n",
    "        \n",
    "ave = AverageForecast(df_val)\n",
    "ave(df_val)"
   ]
  },
  {
   "cell_type": "code",
   "execution_count": null,
   "metadata": {},
   "outputs": [
    {
     "data": {
      "text/plain": [
       "0    0.0\n",
       "Name: mean, dtype: float64"
      ]
     },
     "execution_count": null,
     "metadata": {},
     "output_type": "execute_result"
    }
   ],
   "source": [
    "ave(pd.DataFrame({'item_id': ['not_existing'], 'store_id': ['not_existing']}))"
   ]
  },
  {
   "cell_type": "code",
   "execution_count": null,
   "metadata": {},
   "outputs": [
    {
     "data": {
      "text/plain": [
       "0    0.0\n",
       "Name: mean, dtype: float64"
      ]
     },
     "execution_count": null,
     "metadata": {},
     "output_type": "execute_result"
    }
   ],
   "source": [
    "ave(pd.DataFrame({'item_id': ['HOBBIES_1_105'], 'store_id': ['CA_1']}))"
   ]
  },
  {
   "cell_type": "code",
   "execution_count": null,
   "metadata": {},
   "outputs": [],
   "source": [
    "# TODO: it might be easier to predict a bunch of days first and then pack them into 'double-layered' struct requested\n",
    "def submission_df_series(df, pred_fn, n_days=28, prefix='_validation'):\n",
    "    ids = df['item_id'] + '_' + df['store_id'] + prefix\n",
    "    date_col_names = [f'F{i}' for i in range(1,n_days + 1)]\n",
    "    d = {'id': ids}\n",
    "    ave = pred_fn(df)\n",
    "    d.update({col: ave for col in date_col_names})\n",
    "    return pd.DataFrame(d)\n",
    "\n",
    "def submission_df(pred_fn, df_val, df_eval):\n",
    "    assert not df_val is df_eval\n",
    "    sub_df1 = submission_df_series(df_val, pred_fn, prefix='_validation')\n",
    "    sub_df2 = submission_df_series(df_eval, pred_fn, prefix='_evaluation')\n",
    "    sub_df = pd.concat([sub_df1, sub_df2])\n",
    "    return sub_df"
   ]
  },
  {
   "cell_type": "code",
   "execution_count": null,
   "metadata": {},
   "outputs": [],
   "source": [
    "df_val = pd.read_csv('raw/sales_train_validation.csv')\n",
    "df_eval = pd.read_csv('raw/sales_train_evaluation.csv')"
   ]
  },
  {
   "cell_type": "code",
   "execution_count": null,
   "metadata": {},
   "outputs": [],
   "source": [
    "ave = AverageForecast(df_val)"
   ]
  },
  {
   "cell_type": "code",
   "execution_count": null,
   "metadata": {},
   "outputs": [],
   "source": [
    "sub_df = submission_df(ave, df_val, df_eval)"
   ]
  },
  {
   "cell_type": "code",
   "execution_count": null,
   "metadata": {},
   "outputs": [
    {
     "data": {
      "text/html": [
       "<div>\n",
       "<style scoped>\n",
       "    .dataframe tbody tr th:only-of-type {\n",
       "        vertical-align: middle;\n",
       "    }\n",
       "\n",
       "    .dataframe tbody tr th {\n",
       "        vertical-align: top;\n",
       "    }\n",
       "\n",
       "    .dataframe thead th {\n",
       "        text-align: right;\n",
       "    }\n",
       "</style>\n",
       "<table border=\"1\" class=\"dataframe\">\n",
       "  <thead>\n",
       "    <tr style=\"text-align: right;\">\n",
       "      <th></th>\n",
       "      <th>id</th>\n",
       "      <th>F1</th>\n",
       "      <th>F2</th>\n",
       "      <th>F3</th>\n",
       "      <th>F4</th>\n",
       "      <th>F5</th>\n",
       "      <th>F6</th>\n",
       "      <th>F7</th>\n",
       "      <th>F8</th>\n",
       "      <th>F9</th>\n",
       "      <th>...</th>\n",
       "      <th>F19</th>\n",
       "      <th>F20</th>\n",
       "      <th>F21</th>\n",
       "      <th>F22</th>\n",
       "      <th>F23</th>\n",
       "      <th>F24</th>\n",
       "      <th>F25</th>\n",
       "      <th>F26</th>\n",
       "      <th>F27</th>\n",
       "      <th>F28</th>\n",
       "    </tr>\n",
       "  </thead>\n",
       "  <tbody>\n",
       "    <tr>\n",
       "      <th>100</th>\n",
       "      <td>HOBBIES_1_105_CA_1_validation</td>\n",
       "      <td>0.838474</td>\n",
       "      <td>0.838474</td>\n",
       "      <td>0.838474</td>\n",
       "      <td>0.838474</td>\n",
       "      <td>0.838474</td>\n",
       "      <td>0.838474</td>\n",
       "      <td>0.838474</td>\n",
       "      <td>0.838474</td>\n",
       "      <td>0.838474</td>\n",
       "      <td>...</td>\n",
       "      <td>0.838474</td>\n",
       "      <td>0.838474</td>\n",
       "      <td>0.838474</td>\n",
       "      <td>0.838474</td>\n",
       "      <td>0.838474</td>\n",
       "      <td>0.838474</td>\n",
       "      <td>0.838474</td>\n",
       "      <td>0.838474</td>\n",
       "      <td>0.838474</td>\n",
       "      <td>0.838474</td>\n",
       "    </tr>\n",
       "  </tbody>\n",
       "</table>\n",
       "<p>1 rows × 29 columns</p>\n",
       "</div>"
      ],
      "text/plain": [
       "                                id        F1        F2        F3        F4  \\\n",
       "100  HOBBIES_1_105_CA_1_validation  0.838474  0.838474  0.838474  0.838474   \n",
       "\n",
       "           F5        F6        F7        F8        F9  ...       F19  \\\n",
       "100  0.838474  0.838474  0.838474  0.838474  0.838474  ...  0.838474   \n",
       "\n",
       "          F20       F21       F22       F23       F24       F25       F26  \\\n",
       "100  0.838474  0.838474  0.838474  0.838474  0.838474  0.838474  0.838474   \n",
       "\n",
       "          F27       F28  \n",
       "100  0.838474  0.838474  \n",
       "\n",
       "[1 rows x 29 columns]"
      ]
     },
     "execution_count": null,
     "metadata": {},
     "output_type": "execute_result"
    }
   ],
   "source": [
    "sub_df.query('id == \"HOBBIES_1_105_CA_1_validation\"')"
   ]
  },
  {
   "cell_type": "code",
   "execution_count": null,
   "metadata": {},
   "outputs": [],
   "source": [
    "fn = 'submissions/v0001_item_average.csv'\n",
    "sub_df.to_csv(fn, index=False)"
   ]
  },
  {
   "cell_type": "code",
   "execution_count": null,
   "metadata": {},
   "outputs": [
    {
     "data": {
      "text/plain": [
       "60980"
      ]
     },
     "execution_count": null,
     "metadata": {},
     "output_type": "execute_result"
    }
   ],
   "source": [
    "len(sub_df)"
   ]
  },
  {
   "cell_type": "code",
   "execution_count": null,
   "metadata": {},
   "outputs": [
    {
     "name": "stdout",
     "output_type": "stream",
     "text": [
      "60981 submissions/v0001_item_average.csv\r\n"
     ]
    }
   ],
   "source": [
    "!wc -l {fn}"
   ]
  },
  {
   "cell_type": "code",
   "execution_count": null,
   "metadata": {},
   "outputs": [
    {
     "name": "stdout",
     "output_type": "stream",
     "text": [
      "FOODS_3_818_WI_3_evaluation,1.2310507056978568,1.2310507056978568,1.2310507056978568,1.2310507056978568,1.2310507056978568,1.2310507056978568,1.2310507056978568,1.2310507056978568,1.2310507056978568,1.2310507056978568,1.2310507056978568,1.2310507056978568,1.2310507056978568,1.2310507056978568,1.2310507056978568,1.2310507056978568,1.2310507056978568,1.2310507056978568,1.2310507056978568,1.2310507056978568,1.2310507056978568,1.2310507056978568,1.2310507056978568,1.2310507056978568,1.2310507056978568,1.2310507056978568,1.2310507056978568,1.2310507056978568\r\n",
      "FOODS_3_819_WI_3_evaluation,2.7260846837428123,2.7260846837428123,2.7260846837428123,2.7260846837428123,2.7260846837428123,2.7260846837428123,2.7260846837428123,2.7260846837428123,2.7260846837428123,2.7260846837428123,2.7260846837428123,2.7260846837428123,2.7260846837428123,2.7260846837428123,2.7260846837428123,2.7260846837428123,2.7260846837428123,2.7260846837428123,2.7260846837428123,2.7260846837428123,2.7260846837428123,2.7260846837428123,2.7260846837428123,2.7260846837428123,2.7260846837428123,2.7260846837428123,2.7260846837428123,2.7260846837428123\r\n",
      "FOODS_3_820_WI_3_evaluation,1.545739675901725,1.545739675901725,1.545739675901725,1.545739675901725,1.545739675901725,1.545739675901725,1.545739675901725,1.545739675901725,1.545739675901725,1.545739675901725,1.545739675901725,1.545739675901725,1.545739675901725,1.545739675901725,1.545739675901725,1.545739675901725,1.545739675901725,1.545739675901725,1.545739675901725,1.545739675901725,1.545739675901725,1.545739675901725,1.545739675901725,1.545739675901725,1.545739675901725,1.545739675901725,1.545739675901725,1.545739675901725\r\n",
      "FOODS_3_821_WI_3_evaluation,0.6440146366962886,0.6440146366962886,0.6440146366962886,0.6440146366962886,0.6440146366962886,0.6440146366962886,0.6440146366962886,0.6440146366962886,0.6440146366962886,0.6440146366962886,0.6440146366962886,0.6440146366962886,0.6440146366962886,0.6440146366962886,0.6440146366962886,0.6440146366962886,0.6440146366962886,0.6440146366962886,0.6440146366962886,0.6440146366962886,0.6440146366962886,0.6440146366962886,0.6440146366962886,0.6440146366962886,0.6440146366962886,0.6440146366962886,0.6440146366962886,0.6440146366962886\r\n",
      "FOODS_3_822_WI_3_evaluation,3.169890224777836,3.169890224777836,3.169890224777836,3.169890224777836,3.169890224777836,3.169890224777836,3.169890224777836,3.169890224777836,3.169890224777836,3.169890224777836,3.169890224777836,3.169890224777836,3.169890224777836,3.169890224777836,3.169890224777836,3.169890224777836,3.169890224777836,3.169890224777836,3.169890224777836,3.169890224777836,3.169890224777836,3.169890224777836,3.169890224777836,3.169890224777836,3.169890224777836,3.169890224777836,3.169890224777836,3.169890224777836\r\n",
      "FOODS_3_823_WI_3_evaluation,0.5342394145321484,0.5342394145321484,0.5342394145321484,0.5342394145321484,0.5342394145321484,0.5342394145321484,0.5342394145321484,0.5342394145321484,0.5342394145321484,0.5342394145321484,0.5342394145321484,0.5342394145321484,0.5342394145321484,0.5342394145321484,0.5342394145321484,0.5342394145321484,0.5342394145321484,0.5342394145321484,0.5342394145321484,0.5342394145321484,0.5342394145321484,0.5342394145321484,0.5342394145321484,0.5342394145321484,0.5342394145321484,0.5342394145321484,0.5342394145321484,0.5342394145321484\r\n",
      "FOODS_3_824_WI_3_evaluation,0.37637219027705177,0.37637219027705177,0.37637219027705177,0.37637219027705177,0.37637219027705177,0.37637219027705177,0.37637219027705177,0.37637219027705177,0.37637219027705177,0.37637219027705177,0.37637219027705177,0.37637219027705177,0.37637219027705177,0.37637219027705177,0.37637219027705177,0.37637219027705177,0.37637219027705177,0.37637219027705177,0.37637219027705177,0.37637219027705177,0.37637219027705177,0.37637219027705177,0.37637219027705177,0.37637219027705177,0.37637219027705177,0.37637219027705177,0.37637219027705177,0.37637219027705177\r\n",
      "FOODS_3_825_WI_3_evaluation,0.894929430214323,0.894929430214323,0.894929430214323,0.894929430214323,0.894929430214323,0.894929430214323,0.894929430214323,0.894929430214323,0.894929430214323,0.894929430214323,0.894929430214323,0.894929430214323,0.894929430214323,0.894929430214323,0.894929430214323,0.894929430214323,0.894929430214323,0.894929430214323,0.894929430214323,0.894929430214323,0.894929430214323,0.894929430214323,0.894929430214323,0.894929430214323,0.894929430214323,0.894929430214323,0.894929430214323,0.894929430214323\r\n",
      "FOODS_3_826_WI_3_evaluation,0.36696288552012546,0.36696288552012546,0.36696288552012546,0.36696288552012546,0.36696288552012546,0.36696288552012546,0.36696288552012546,0.36696288552012546,0.36696288552012546,0.36696288552012546,0.36696288552012546,0.36696288552012546,0.36696288552012546,0.36696288552012546,0.36696288552012546,0.36696288552012546,0.36696288552012546,0.36696288552012546,0.36696288552012546,0.36696288552012546,0.36696288552012546,0.36696288552012546,0.36696288552012546,0.36696288552012546,0.36696288552012546,0.36696288552012546,0.36696288552012546,0.36696288552012546\r\n",
      "FOODS_3_827_WI_3_evaluation,0.694720334553058,0.694720334553058,0.694720334553058,0.694720334553058,0.694720334553058,0.694720334553058,0.694720334553058,0.694720334553058,0.694720334553058,0.694720334553058,0.694720334553058,0.694720334553058,0.694720334553058,0.694720334553058,0.694720334553058,0.694720334553058,0.694720334553058,0.694720334553058,0.694720334553058,0.694720334553058,0.694720334553058,0.694720334553058,0.694720334553058,0.694720334553058,0.694720334553058,0.694720334553058,0.694720334553058,0.694720334553058\r\n"
     ]
    }
   ],
   "source": [
    "!tail {fn}"
   ]
  },
  {
   "cell_type": "code",
   "execution_count": null,
   "metadata": {},
   "outputs": [
    {
     "name": "stdout",
     "output_type": "stream",
     "text": [
      "100%|███████████████████████████████████████| 33.0M/33.0M [00:44<00:00, 779kB/s]\n",
      "Successfully submitted to M5 Forecasting - Accuracy"
     ]
    }
   ],
   "source": [
    "kaggle_competition='m5-forecasting-accuracy'\n",
    "!KAGGLE_CONFIG_DIR=.. kaggle competitions submit \\\n",
    "              -f {fn} \\\n",
    "              -m \"Known mean\" {kaggle_competition}"
   ]
  },
  {
   "cell_type": "code",
   "execution_count": null,
   "metadata": {},
   "outputs": [
    {
     "name": "stdout",
     "output_type": "stream",
     "text": [
      "fileName                date                 description            status    publicScore  privateScore  \r\n",
      "----------------------  -------------------  ---------------------  --------  -----------  ------------  \r\n",
      "v0001_item_average.csv  2021-05-19 02:07:23  All zero cmd line sub  pending   None         None          \r\n",
      "v0000_all_zero.csv      2021-05-18 02:54:53  All zero cmd line sub  complete  5.44561      5.39065       \r\n",
      "all_zero_v0000.csv      2021-05-18 02:49:33  All zero cmd line sub  error     None         None          \r\n",
      "all_zero_v0000.csv      2021-05-18 02:49:27  All zero cmd line sub  error     None         None          \r\n",
      "all_zero_v0000.csv      2021-05-18 02:48:15  All zero cmd line sub  error     None         None          \r\n",
      "0400-fastai-sample.csv  2020-04-05 00:29:47  None                   complete  5.44561      5.39065       \r\n",
      "0200-naive.csv          2020-03-22 23:26:07                         complete  0.83770      5.39065       \r\n",
      "0200-naive.csv          2020-03-22 23:20:13  None                   error     None         None          \r\n"
     ]
    }
   ],
   "source": [
    "!KAGGLE_CONFIG_DIR=.. kaggle competitions submissions {kaggle_competition}"
   ]
  },
  {
   "cell_type": "code",
   "execution_count": null,
   "metadata": {},
   "outputs": [],
   "source": []
  }
 ],
 "metadata": {
  "kernelspec": {
   "display_name": "Python 3",
   "language": "python",
   "name": "python3"
  }
 },
 "nbformat": 4,
 "nbformat_minor": 4
}
